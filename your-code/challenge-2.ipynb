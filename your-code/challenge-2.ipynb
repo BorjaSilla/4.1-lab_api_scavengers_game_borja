{
 "cells": [
  {
   "cell_type": "markdown",
   "id": "threaded-asbestos",
   "metadata": {},
   "source": [
    "# Challenge 2: Count Commits\n",
    "\n",
    "Count how many commits were made in the past week.\n",
    "\n",
    "Obtain all the commits made in the past week via API, which is a JSON array that contains multiple commit objects.\n",
    "\n",
    "Count how many commit objects are contained in the array."
   ]
  },
  {
   "cell_type": "markdown",
   "id": "norwegian-praise",
   "metadata": {},
   "source": [
    "⚠️ **Remember to limit your output before submission**."
   ]
  },
  {
   "cell_type": "markdown",
   "id": "54ad9814",
   "metadata": {},
   "source": [
    "### WE WILL CALCULATE THE NUMBER OF COMMITS IN THE FORKS OF `3.1-lab_intro_to_mysql`"
   ]
  },
  {
   "cell_type": "code",
   "execution_count": 9,
   "metadata": {},
   "outputs": [],
   "source": [
    "#Your code\n",
    "import os\n",
    "from dotenv import load_dotenv\n",
    "import re\n",
    "load_dotenv()\n",
    "import json\n",
    "import requests"
   ]
  },
  {
   "cell_type": "code",
   "execution_count": 10,
   "id": "developing-printing",
   "metadata": {},
   "outputs": [],
   "source": [
    "commits = \"/repos/Ironhack-Data-Madrid-Agosto-2022/Apuntes-de-clase/commits\""
   ]
  },
  {
   "cell_type": "code",
   "execution_count": 13,
   "id": "e9d18de4",
   "metadata": {},
   "outputs": [],
   "source": [
    "def requestGithub (endpoint):\n",
    "    \n",
    "    token = os.getenv(\"GITHUB_APIKEY\")\n",
    "\n",
    "    with open('../token.txt', 'r') as f:\n",
    "        token = f.read()\n",
    "\n",
    "    if not token:\n",
    "        raise ValueError (\"You need a token\")\n",
    "    direccion=\"https://api.github.com\"\n",
    "    url = direccion+endpoint\n",
    "\n",
    "    print(f\"Requesting {url}\")\n",
    "    headers = {\n",
    "        \"Authorization\": f\"token {token}\"}\n",
    "\n",
    "    res = requests.get(url, headers=headers)\n",
    "    return res.json()"
   ]
  },
  {
   "cell_type": "code",
   "execution_count": 14,
   "id": "f7d87893",
   "metadata": {},
   "outputs": [
    {
     "name": "stdout",
     "output_type": "stream",
     "text": [
      "Haciendo request a https://api.github.com/repos/Ironhack-Data-Madrid-Agosto-2022/Apuntes-de-clase/commits\n"
     ]
    }
   ],
   "source": [
    "com = requestGithub(commits)"
   ]
  },
  {
   "cell_type": "code",
   "execution_count": 15,
   "id": "2e8e0598",
   "metadata": {},
   "outputs": [
    {
     "data": {
      "text/plain": [
       "'2022-09-27T07:57:47Z'"
      ]
     },
     "execution_count": 15,
     "metadata": {},
     "output_type": "execute_result"
    }
   ],
   "source": [
    "com[0]['commit']['author']['date']"
   ]
  },
  {
   "cell_type": "code",
   "execution_count": 16,
   "id": "01535328",
   "metadata": {},
   "outputs": [
    {
     "data": {
      "text/plain": [
       "(30,\n",
       " ['2022-09-27T07:57:47Z',\n",
       "  '2022-09-27T07:11:56Z',\n",
       "  '2022-09-26T09:33:52Z',\n",
       "  '2022-09-26T06:53:34Z',\n",
       "  '2022-09-23T09:38:28Z',\n",
       "  '2022-09-23T08:42:40Z',\n",
       "  '2022-09-23T07:08:24Z',\n",
       "  '2022-09-22T10:21:18Z',\n",
       "  '2022-09-22T09:53:11Z',\n",
       "  '2022-09-22T09:48:45Z',\n",
       "  '2022-09-22T08:59:51Z',\n",
       "  '2022-09-22T07:53:33Z',\n",
       "  '2022-09-21T10:04:32Z',\n",
       "  '2022-09-21T08:35:22Z',\n",
       "  '2022-09-21T07:50:43Z',\n",
       "  '2022-09-20T11:46:56Z',\n",
       "  '2022-09-20T10:22:58Z',\n",
       "  '2022-09-20T08:01:27Z',\n",
       "  '2022-09-19T11:42:33Z',\n",
       "  '2022-09-19T11:00:54Z',\n",
       "  '2022-09-19T09:14:26Z',\n",
       "  '2022-09-19T07:47:33Z',\n",
       "  '2022-09-15T10:38:37Z',\n",
       "  '2022-09-15T09:06:21Z',\n",
       "  '2022-09-15T08:03:09Z',\n",
       "  '2022-09-15T07:09:36Z',\n",
       "  '2022-09-14T08:51:17Z',\n",
       "  '2022-09-14T07:54:57Z',\n",
       "  '2022-09-13T10:12:15Z',\n",
       "  '2022-09-13T08:44:42Z'])"
      ]
     },
     "execution_count": 16,
     "metadata": {},
     "output_type": "execute_result"
    }
   ],
   "source": [
    "num_com = 0\n",
    "com_lst = []\n",
    "for i in range(len(com)):\n",
    "    if com[i]['commit']['author']['date'] > '2022-08-22T00:00:00Z':\n",
    "        com_lst.append(com[i]['commit']['author']['date'])\n",
    "        num_com += 1\n",
    "\n",
    "num_com, com_lst"
   ]
  }
 ],
 "metadata": {
  "kernelspec": {
   "display_name": "clase",
   "language": "python",
   "name": "clase"
  },
  "language_info": {
   "codemirror_mode": {
    "name": "ipython",
    "version": 3
   },
   "file_extension": ".py",
   "mimetype": "text/x-python",
   "name": "python",
   "nbconvert_exporter": "python",
   "pygments_lexer": "ipython3",
   "version": "3.10.13"
  },
  "toc": {
   "base_numbering": 1,
   "nav_menu": {},
   "number_sections": true,
   "sideBar": true,
   "skip_h1_title": true,
   "title_cell": "Table of Contents",
   "title_sidebar": "Contents",
   "toc_cell": false,
   "toc_position": {
    "height": "calc(100% - 180px)",
    "left": "10px",
    "top": "150px",
    "width": "288px"
   },
   "toc_section_display": true,
   "toc_window_display": true
  }
 },
 "nbformat": 4,
 "nbformat_minor": 5
}
